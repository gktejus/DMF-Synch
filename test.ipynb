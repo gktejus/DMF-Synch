{
 "cells": [
  {
   "cell_type": "code",
   "execution_count": 4,
   "metadata": {},
   "outputs": [],
   "source": [
    "import torch\n",
    "import torch.nn as nn\n",
    "import scipy.io\n",
    "import numpy as np\n",
    "import os\n",
    "import glob\n",
    "import json\n",
    "import pandas as pd\n",
    "import os\n",
    "from pandas.io.json import json_normalize\n"
   ]
  },
  {
   "cell_type": "code",
   "execution_count": 2,
   "metadata": {},
   "outputs": [],
   "source": [
    "mat = scipy.io.loadmat(\"./MATLAB_SO3/datasets_matrices/Ellis_Island.mat\")\n",
    "Z_incomplete = mat['Z_incomplete']\n",
    "Omega = mat[\"Omega\"]\n",
    "data = []\n",
    "for i in range(0 , Z_incomplete.shape[0] , 3):\n",
    "    for j in range(0 , Z_incomplete.shape[0] , 3):\n",
    "        if(Omega[i][j]==1 ):\n",
    "            data.append([i , j])"
   ]
  },
  {
   "cell_type": "code",
   "execution_count": 7,
   "metadata": {},
   "outputs": [
    {
     "data": {
      "text/plain": [
       "array([[ 1.00000000e+00, -4.59913357e-12, -8.46950288e-12, ...,\n",
       "         9.27921250e-01,  9.02817924e-02,  3.61678520e-01],\n",
       "       [-4.59913357e-12,  1.00000000e+00,  2.00914285e-12, ...,\n",
       "        -1.52962302e-01,  9.77001536e-01,  1.48561547e-01],\n",
       "       [-8.46950288e-12,  2.00914285e-12,  1.00000000e+00, ...,\n",
       "        -3.39948067e-01, -1.93176595e-01,  9.20390197e-01],\n",
       "       ...,\n",
       "       [ 9.27921250e-01, -1.52962302e-01, -3.39948067e-01, ...,\n",
       "         1.00000000e+00,  5.46229728e-14, -2.94209102e-14],\n",
       "       [ 9.02817924e-02,  9.77001536e-01, -1.93176595e-01, ...,\n",
       "         5.46229728e-14,  1.00000000e+00,  9.40247880e-13],\n",
       "       [ 3.61678520e-01,  1.48561547e-01,  9.20390197e-01, ...,\n",
       "        -2.94209102e-14,  9.40247880e-13,  1.00000000e+00]])"
      ]
     },
     "execution_count": 7,
     "metadata": {},
     "output_type": "execute_result"
    }
   ],
   "source": [
    "gt_path = \"./datasets/mat-cmpl/gt.pt\"\n",
    "torch.save(torch.from_numpy(Z_incomplete), gt_path)\n"
   ]
  },
  {
   "cell_type": "code",
   "execution_count": 8,
   "metadata": {},
   "outputs": [
    {
     "data": {
      "text/plain": [
       "array([[1., 0., 0., ..., 0., 0., 0.],\n",
       "       [0., 1., 0., ..., 0., 0., 0.],\n",
       "       [0., 0., 1., ..., 0., 0., 0.],\n",
       "       ...,\n",
       "       [0., 0., 0., ..., 1., 0., 0.],\n",
       "       [0., 0., 0., ..., 0., 1., 0.],\n",
       "       [0., 0., 0., ..., 0., 0., 1.]])"
      ]
     },
     "execution_count": 8,
     "metadata": {},
     "output_type": "execute_result"
    }
   ],
   "source": [
    "x =[]\n",
    "y = []\n",
    "for idx in data:\n",
    "    for i in range(3):\n",
    "        for j in range(3):\n",
    "            x.append(idx[0]+i)\n",
    "            y.append(idx[1]+j)\n",
    "x = torch.tensor(x)\n",
    "y = torch.tensor(y)"
   ]
  },
  {
   "cell_type": "code",
   "execution_count": 29,
   "metadata": {},
   "outputs": [],
   "source": [
    "ys_ = Z_incomplete[x , y]\n",
    "ys_ = torch.tensor(ys_)\n",
    "obs_path = \"./datasets/mat-cmpl/362223.pt\"\n",
    "torch.save([(x, y), ys_], obs_path)"
   ]
  },
  {
   "cell_type": "code",
   "execution_count": 7,
   "metadata": {},
   "outputs": [],
   "source": [
    "for dir in glob.glob(\"./logs/*\"):\n",
    "    num  = int(dir.split('/')[-1])\n",
    "    if num<=47:\n",
    "        continue\n",
    "    mat_dir = os.path.join(dir , \"best.npy\")\n",
    "    new_file_dir = os.path.join(dir , \"X_output.mat\")\n",
    "    mat = torch.load(mat_dir).detach().cpu().numpy()\n",
    "    ndic = {'data':mat}\n",
    "    scipy.io.savemat(new_file_dir , ndic)\n",
    "    config_path = os.path.join(dir, \"config.toml\")\n",
    "    with open(config_path) as f:\n",
    "        lines = f.readlines()\n",
    "    depth = int(lines[3].strip('\\n').split(\"= \")[1])\n",
    "    init_scale = float(lines[7].strip('\\n').split(\"= \")[1])\n",
    "    optimizer = lines[10].strip('\\n').split(\"= \")[1].replace('\"', '')\n",
    "    initialization  = lines[11].strip('\\n').split(\"= \")[1].replace('\"','')\n",
    "    lr = float(lines[12].strip('\\n').split(\"= \")[1])\n",
    "    config_dic = {\"depth\":depth , \"init_scale\": init_scale , \"optimizer\":optimizer , \"initialization\":initialization , \"lr\":lr}\n",
    "    json_path = os.path.join(dir , \"config.json\")\n",
    "    with open(json_path, 'w') as fp:\n",
    "        json.dump(config_dic, fp)"
   ]
  },
  {
   "cell_type": "code",
   "execution_count": 6,
   "metadata": {},
   "outputs": [
    {
     "name": "stdout",
     "output_type": "stream",
     "text": [
      "./exps/5 Fail\n"
     ]
    },
    {
     "name": "stderr",
     "output_type": "stream",
     "text": [
      "ipykernel_launcher:8: FutureWarning: pandas.io.json.json_normalize is deprecated, use pandas.json_normalize instead\n"
     ]
    }
   ],
   "source": [
    "df= []\n",
    "idx = 0 \n",
    "for dir in glob.glob(\"./exps/*\"):\n",
    "    file_path = os.path.join(dir , \"config.json\")\n",
    "    try:\n",
    "        f = open(file_path)\n",
    "        data = json.load(f)\n",
    "        norm_data = pd.DataFrame(json_normalize(data))\n",
    "        norm_data.insert(0, 'Exp', '')\n",
    "        norm_data['Exp'] = idx\n",
    "        idx+=1\n",
    "        df.append(norm_data)\n",
    "    except:\n",
    "\n",
    "        print(dir , \"Fail\")\n",
    "dataframe = pd.concat(df)"
   ]
  },
  {
   "cell_type": "code",
   "execution_count": 7,
   "metadata": {},
   "outputs": [
    {
     "data": {
      "text/html": [
       "<div>\n",
       "<style scoped>\n",
       "    .dataframe tbody tr th:only-of-type {\n",
       "        vertical-align: middle;\n",
       "    }\n",
       "\n",
       "    .dataframe tbody tr th {\n",
       "        vertical-align: top;\n",
       "    }\n",
       "\n",
       "    .dataframe thead th {\n",
       "        text-align: right;\n",
       "    }\n",
       "</style>\n",
       "<table border=\"1\" class=\"dataframe\">\n",
       "  <thead>\n",
       "    <tr style=\"text-align: right;\">\n",
       "      <th></th>\n",
       "      <th>Exp</th>\n",
       "      <th>depth</th>\n",
       "      <th>init_scale</th>\n",
       "      <th>optimizer</th>\n",
       "      <th>initialization</th>\n",
       "      <th>lr</th>\n",
       "      <th>dataset</th>\n",
       "      <th>delta</th>\n",
       "      <th>mean_error</th>\n",
       "      <th>median_error</th>\n",
       "    </tr>\n",
       "  </thead>\n",
       "  <tbody>\n",
       "    <tr>\n",
       "      <th>0</th>\n",
       "      <td>0</td>\n",
       "      <td>2</td>\n",
       "      <td>0.001</td>\n",
       "      <td>GroupRMSprop</td>\n",
       "      <td>orthogonal</td>\n",
       "      <td>0.001</td>\n",
       "      <td>Gendarmenmarkt</td>\n",
       "      <td>0.5</td>\n",
       "      <td>61.54250</td>\n",
       "      <td>33.17510</td>\n",
       "    </tr>\n",
       "    <tr>\n",
       "      <th>0</th>\n",
       "      <td>1</td>\n",
       "      <td>2</td>\n",
       "      <td>0.001</td>\n",
       "      <td>GroupRMSprop</td>\n",
       "      <td>orthogonal</td>\n",
       "      <td>0.001</td>\n",
       "      <td>Piccadilly</td>\n",
       "      <td>0.5</td>\n",
       "      <td>34.13690</td>\n",
       "      <td>14.83550</td>\n",
       "    </tr>\n",
       "    <tr>\n",
       "      <th>0</th>\n",
       "      <td>2</td>\n",
       "      <td>2</td>\n",
       "      <td>0.001</td>\n",
       "      <td>GroupRMSprop</td>\n",
       "      <td>orthogonal</td>\n",
       "      <td>0.001</td>\n",
       "      <td>Notre_Dame</td>\n",
       "      <td>0.5</td>\n",
       "      <td>NaN</td>\n",
       "      <td>NaN</td>\n",
       "    </tr>\n",
       "    <tr>\n",
       "      <th>0</th>\n",
       "      <td>3</td>\n",
       "      <td>2</td>\n",
       "      <td>0.001</td>\n",
       "      <td>GroupRMSprop</td>\n",
       "      <td>orthogonal</td>\n",
       "      <td>0.001</td>\n",
       "      <td>Union_Square</td>\n",
       "      <td>0.5</td>\n",
       "      <td>NaN</td>\n",
       "      <td>NaN</td>\n",
       "    </tr>\n",
       "    <tr>\n",
       "      <th>0</th>\n",
       "      <td>4</td>\n",
       "      <td>2</td>\n",
       "      <td>0.001</td>\n",
       "      <td>GroupRMSprop</td>\n",
       "      <td>orthogonal</td>\n",
       "      <td>0.001</td>\n",
       "      <td>Yorkminster</td>\n",
       "      <td>0.5</td>\n",
       "      <td>NaN</td>\n",
       "      <td>NaN</td>\n",
       "    </tr>\n",
       "    <tr>\n",
       "      <th>0</th>\n",
       "      <td>5</td>\n",
       "      <td>2</td>\n",
       "      <td>0.001</td>\n",
       "      <td>GroupRMSprop</td>\n",
       "      <td>orthogonal</td>\n",
       "      <td>0.001</td>\n",
       "      <td>Roman_Forum</td>\n",
       "      <td>0.5</td>\n",
       "      <td>23.38940</td>\n",
       "      <td>15.97140</td>\n",
       "    </tr>\n",
       "    <tr>\n",
       "      <th>0</th>\n",
       "      <td>6</td>\n",
       "      <td>2</td>\n",
       "      <td>0.001</td>\n",
       "      <td>GroupRMSprop</td>\n",
       "      <td>orthogonal</td>\n",
       "      <td>0.001</td>\n",
       "      <td>Montreal_Notre_Dame</td>\n",
       "      <td>0.5</td>\n",
       "      <td>NaN</td>\n",
       "      <td>NaN</td>\n",
       "    </tr>\n",
       "    <tr>\n",
       "      <th>0</th>\n",
       "      <td>7</td>\n",
       "      <td>2</td>\n",
       "      <td>0.001</td>\n",
       "      <td>GroupRMSprop</td>\n",
       "      <td>orthogonal</td>\n",
       "      <td>0.001</td>\n",
       "      <td>Piazza_del_Popolo</td>\n",
       "      <td>0.5</td>\n",
       "      <td>19.91440</td>\n",
       "      <td>2.16252</td>\n",
       "    </tr>\n",
       "    <tr>\n",
       "      <th>0</th>\n",
       "      <td>8</td>\n",
       "      <td>2</td>\n",
       "      <td>0.001</td>\n",
       "      <td>GroupRMSprop</td>\n",
       "      <td>orthogonal</td>\n",
       "      <td>0.001</td>\n",
       "      <td>Alamo</td>\n",
       "      <td>0.5</td>\n",
       "      <td>11.38860</td>\n",
       "      <td>2.24468</td>\n",
       "    </tr>\n",
       "    <tr>\n",
       "      <th>0</th>\n",
       "      <td>9</td>\n",
       "      <td>2</td>\n",
       "      <td>0.001</td>\n",
       "      <td>GroupRMSprop</td>\n",
       "      <td>orthogonal</td>\n",
       "      <td>0.001</td>\n",
       "      <td>NYC_Library</td>\n",
       "      <td>0.5</td>\n",
       "      <td>9.53183</td>\n",
       "      <td>4.41624</td>\n",
       "    </tr>\n",
       "  </tbody>\n",
       "</table>\n",
       "</div>"
      ],
      "text/plain": [
       "   Exp  depth  init_scale     optimizer initialization     lr  \\\n",
       "0    0      2       0.001  GroupRMSprop     orthogonal  0.001   \n",
       "0    1      2       0.001  GroupRMSprop     orthogonal  0.001   \n",
       "0    2      2       0.001  GroupRMSprop     orthogonal  0.001   \n",
       "0    3      2       0.001  GroupRMSprop     orthogonal  0.001   \n",
       "0    4      2       0.001  GroupRMSprop     orthogonal  0.001   \n",
       "0    5      2       0.001  GroupRMSprop     orthogonal  0.001   \n",
       "0    6      2       0.001  GroupRMSprop     orthogonal  0.001   \n",
       "0    7      2       0.001  GroupRMSprop     orthogonal  0.001   \n",
       "0    8      2       0.001  GroupRMSprop     orthogonal  0.001   \n",
       "0    9      2       0.001  GroupRMSprop     orthogonal  0.001   \n",
       "\n",
       "               dataset  delta  mean_error  median_error  \n",
       "0       Gendarmenmarkt    0.5    61.54250      33.17510  \n",
       "0           Piccadilly    0.5    34.13690      14.83550  \n",
       "0           Notre_Dame    0.5         NaN           NaN  \n",
       "0         Union_Square    0.5         NaN           NaN  \n",
       "0          Yorkminster    0.5         NaN           NaN  \n",
       "0          Roman_Forum    0.5    23.38940      15.97140  \n",
       "0  Montreal_Notre_Dame    0.5         NaN           NaN  \n",
       "0    Piazza_del_Popolo    0.5    19.91440       2.16252  \n",
       "0                Alamo    0.5    11.38860       2.24468  \n",
       "0          NYC_Library    0.5     9.53183       4.41624  "
      ]
     },
     "execution_count": 7,
     "metadata": {},
     "output_type": "execute_result"
    }
   ],
   "source": [
    "dataframe"
   ]
  },
  {
   "cell_type": "code",
   "execution_count": 7,
   "metadata": {},
   "outputs": [],
   "source": [
    "dataframe.to_csv(\"./results.csv\")"
   ]
  },
  {
   "cell_type": "code",
   "execution_count": 2,
   "metadata": {},
   "outputs": [],
   "source": [
    "datasets = os.listdir(\"./MATLAB_SO3_Tejus/datasets_matrices\")"
   ]
  },
  {
   "cell_type": "code",
   "execution_count": 8,
   "metadata": {},
   "outputs": [],
   "source": [
    "path = \"./MATLAB_SO3_Tejus/datasets_matrices\"\n",
    "for dir in datasets:\n",
    "    mat_path = os.path.join(path , dir)\n",
    "    name = dir.split(\".mat\")[0]\n",
    "    if(name == \"Ellis_Island\"):\n",
    "        continue\n",
    "    mat = scipy.io.loadmat(mat_path)\n",
    "    Z_incomplete = mat['Z_incomplete']\n",
    "    Omega = mat[\"Omega\"]\n",
    "    data = []\n",
    "    for i in range(0, Z_incomplete.shape[0], 3):\n",
    "        for j in range(0, Z_incomplete.shape[0], 3):\n",
    "            if(Omega[i][j] == 1):\n",
    "                data.append([i, j])\n",
    "    save_path = \"./datasets/mat-cmpl/\" \n",
    "    final_path = os.path.join(save_path , name+\"_gt.pt\")\n",
    "    torch.save(torch.from_numpy(Z_incomplete), final_path)\n",
    "    x =[]\n",
    "    y = []\n",
    "    for idx in data:\n",
    "        for i in range(3):\n",
    "            for j in range(3):\n",
    "                x.append(idx[0]+i)\n",
    "                y.append(idx[1]+j)\n",
    "    x = torch.tensor(x)\n",
    "    y = torch.tensor(y)\n",
    "    ys_ = Z_incomplete[x , y]\n",
    "    ys_ = torch.tensor(ys_)\n",
    "    obs_path = os.path.join(save_path , name+\"_obs.pt\")\n",
    "    torch.save([(x, y), ys_], obs_path)\n",
    "\n",
    "    \n"
   ]
  },
  {
   "cell_type": "code",
   "execution_count": 42,
   "metadata": {},
   "outputs": [
    {
     "name": "stdout",
     "output_type": "stream",
     "text": [
      "Trafalgar\n",
      "Tower_of_London\n",
      "Union_Square\n",
      "NYC_Library\n",
      "Yorkminster\n",
      "Alamo\n",
      "Montreal_Notre_Dame\n",
      "Piazza_del_Popolo\n",
      "Roman_Forum\n",
      "Gendarmenmarkt\n",
      "Notre_Dame\n",
      "Madrid_Metropolis\n",
      "Piccadilly\n"
     ]
    }
   ],
   "source": [
    "path = \"./MATLAB_SO3_Tejus/datasets_matrices\"\n",
    "datasets = os.listdir(\"./MATLAB_SO3_Tejus/datasets_matrices\")\n",
    "for dir in datasets:\n",
    "\n",
    "    name = dir.split(\".mat\")[0]\n",
    "    if(name ==\"Ellis_Island\"):\n",
    "        continue\n",
    "    print(name)\n",
    "    data = []\n",
    "    data.append(\"problem = \\\"matrix-completion\\\" \\n\")\n",
    "    gt_path = os.path.join(\"datasets/mat-cmpl/\", name+\"_gt.pt\")\n",
    "    data.append(f\"gt_path = \\\"{gt_path}\\\" \\n\")\n",
    "    x = torch.load(gt_path)\n",
    "    data.append(f\"shape = [{x.shape[0]}, {x.shape[0]}] \\n\")\n",
    "    obs_path =  os.path.join(\"datasets/mat-cmpl/\", name+\"_obs.pt\")\n",
    "    data.append(f\"obs_path = \\\"{obs_path}\\\" \\n\")\n",
    "    data.append(f\"dataset = \\\"{name}\\\" \\n\")\n",
    "    file_path = os.path.join(\"./configs/mat-cmpl/\" , name+\".toml\")\n",
    "    file1 = open(file_path,\"w\")\n",
    "    file1.writelines(data)\n",
    "    file1.close()\n"
   ]
  },
  {
   "cell_type": "code",
   "execution_count": 1,
   "metadata": {},
   "outputs": [],
   "source": [
    "import scipy.io\n",
    "import numpy as np\n",
    "from scipy.sparse.linalg import eigsh\n",
    "import os\n",
    "\n",
    "\n",
    "def SO3_EIG(pred_path, gt_path, log_dir):\n",
    "    mat = scipy.io.loadmat(gt_path)\n",
    "    ncams_c = mat['ncams_c'][0][0]\n",
    "    R_gt_c = mat['R_gt_c']\n",
    "    A = np.ones((ncams_c, ncams_c))\n",
    "    G = scipy.io.loadmat(pred_path)['best']\n",
    "\n",
    "    D = np.kron(np.diag(1.0/np.sum(A, 1)), np.eye(3))\n",
    "    M = eigsh(np.matmul(D, G),  k=3)[1]\n",
    "    M[:, [0, 2]] = M[:, [2, 0]]\n",
    "\n",
    "    R = np.zeros((3, 3, ncams_c))\n",
    "\n",
    "    for i in range(ncams_c):\n",
    "        U, s, V = np.linalg.svd(M[3*i:3*i + 3, :])\n",
    "        R[:, :, i] = np.matmul(U, V.T)\n",
    "        if (np.linalg.det(R[:, :, i]) < 0):\n",
    "            R[:, :, i] -= np.matmul(U, V.T)\n",
    "\n",
    "    data = {'data': R}\n",
    "    scipy.io.savemat(os.path.join(log_dir, \"R_our.mat\"), data)\n"
   ]
  },
  {
   "cell_type": "code",
   "execution_count": 5,
   "metadata": {},
   "outputs": [],
   "source": [
    "gt_path = \"./MATLAB_SO3/datasets_matrices/Tower_of_London.mat\"\n",
    "pred_path = \"./exp_huber/2/X_output.mat\"\n",
    "mat = scipy.io.loadmat(gt_path)\n",
    "ncams_c = mat['ncams_c'][0][0]\n",
    "R_gt_c = mat['R_gt_c']\n",
    "A = np.ones((ncams_c, ncams_c))\n",
    "G = scipy.io.loadmat(pred_path)['best']\n",
    "\n",
    "D = np.kron(np.diag(1.0/np.sum(A, 1)), np.eye(3))\n",
    "M = eigsh(np.matmul(D, G),  k=3)[1]\n",
    "M[:, [0, 2]] = M[:, [2, 0]]\n",
    "\n",
    "R = np.zeros((3, 3, ncams_c))\n",
    "\n",
    "for i in range(ncams_c):\n",
    "    U, s, V = np.linalg.svd(M[3*i:3*i + 3, :])\n",
    "    R[:, :, i] = np.matmul(U, V.T)\n",
    "    if (np.linalg.det(R[:, :, i]) < 0):\n",
    "        R[:, :, i] -= np.matmul(U, V.T)\n",
    "\n",
    "data = {'data': R}\n",
    "# scipy.io.savemat(os.path.join(log_dir, \"R_our.mat\"), data)\n"
   ]
  },
  {
   "cell_type": "code",
   "execution_count": 32,
   "metadata": {},
   "outputs": [],
   "source": [
    "i = 0\n",
    "M = eigsh(np.matmul(D, G),  k=3)[1]\n",
    "M[:, [0, 2]] = M[:, [2, 0]]\n",
    "U, s, V = np.linalg.svd(M[3*i:3*i + 3, :])\n",
    "V = V.T.conj()\n"
   ]
  },
  {
   "cell_type": "code",
   "execution_count": 33,
   "metadata": {},
   "outputs": [
    {
     "data": {
      "text/plain": [
       "array([[-0.88330578,  0.46868581,  0.01022322],\n",
       "       [-0.02244464, -0.06406235,  0.99769347],\n",
       "       [-0.46825969, -0.88103895, -0.06710613]])"
      ]
     },
     "execution_count": 33,
     "metadata": {},
     "output_type": "execute_result"
    }
   ],
   "source": [
    "np.matmul(U , V.T)"
   ]
  },
  {
   "cell_type": "code",
   "execution_count": 38,
   "metadata": {},
   "outputs": [],
   "source": [
    "M = eigsh(np.matmul(D, G),  k=3)[1]\n",
    "M[:, [0, 2]] = M[:, [2, 0]]\n"
   ]
  },
  {
   "cell_type": "code",
   "execution_count": 2,
   "metadata": {},
   "outputs": [],
   "source": [
    "import torch\n",
    "import numpy as np"
   ]
  },
  {
   "cell_type": "code",
   "execution_count": 3,
   "metadata": {},
   "outputs": [],
   "source": []
  },
  {
   "cell_type": "code",
   "execution_count": 2,
   "metadata": {},
   "outputs": [],
   "source": [
    "import torch\n",
    "import matplotlib.pyplot as plt"
   ]
  },
  {
   "cell_type": "code",
   "execution_count": 4,
   "metadata": {},
   "outputs": [
    {
     "data": {
      "text/plain": [
       "(array([1.20000e+01, 2.50000e+01, 6.40000e+01, 9.40000e+01, 3.90000e+01,\n",
       "        1.40000e+01, 3.20000e+01, 3.30000e+01, 5.40000e+01, 9.80000e+01,\n",
       "        1.36000e+02, 5.73000e+02, 1.79800e+03, 2.27400e+03, 2.95600e+03,\n",
       "        3.01600e+03, 3.78000e+03, 4.64500e+03, 4.46000e+03, 5.82400e+03,\n",
       "        6.96300e+03, 9.37600e+03, 1.83780e+04, 4.04410e+04, 1.12476e+05,\n",
       "        1.55046e+05, 5.17210e+04, 1.74070e+04, 7.92100e+03, 4.67800e+03,\n",
       "        3.02600e+03, 1.91200e+03, 1.58700e+03, 9.96000e+02, 5.10000e+02,\n",
       "        3.80000e+02, 3.37000e+02, 1.59000e+02, 2.48000e+02, 1.05000e+02,\n",
       "        2.70000e+01, 2.30000e+01, 1.30000e+01, 2.00000e+00, 3.00000e+00,\n",
       "        1.20000e+01, 7.00000e+00, 3.60000e+01, 3.20000e+01, 1.20000e+01]),\n",
       " array([-1.89436366, -1.8194715 , -1.74457934, -1.66968719, -1.59479503,\n",
       "        -1.51990288, -1.44501072, -1.37011857, -1.29522641, -1.22033426,\n",
       "        -1.1454421 , -1.07054994, -0.99565779, -0.92076563, -0.84587348,\n",
       "        -0.77098132, -0.69608917, -0.62119701, -0.54630485, -0.4714127 ,\n",
       "        -0.39652054, -0.32162839, -0.24673623, -0.17184408, -0.09695192,\n",
       "        -0.02205976,  0.05283239,  0.12772455,  0.2026167 ,  0.27750886,\n",
       "         0.35240101,  0.42729317,  0.50218533,  0.57707748,  0.65196964,\n",
       "         0.72686179,  0.80175395,  0.8766461 ,  0.95153826,  1.02643042,\n",
       "         1.10132257,  1.17621473,  1.25110688,  1.32599904,  1.40089119,\n",
       "         1.47578335,  1.55067551,  1.62556766,  1.70045982,  1.77535197,\n",
       "         1.85024413]),\n",
       " <BarContainer object of 50 artists>)"
      ]
     },
     "execution_count": 4,
     "metadata": {},
     "output_type": "execute_result"
    },
    {
     "data": {
      "image/png": "[encoded data removed]",
      "text/plain": [
       "<Figure size 432x288 with 1 Axes>"
      ]
     },
     "metadata": {
      "needs_background": "light"
     },
     "output_type": "display_data"
    }
   ],
   "source": [
    "path = \"./test/6/res_best_test.pt\"\n",
    "plt.hist(torch.load(path).detach().cpu().numpy(), bins = 50)"
   ]
  },
  {
   "cell_type": "code",
   "execution_count": 8,
   "metadata": {},
   "outputs": [],
   "source": [
    "path = \"./datasets/mat-cmpl/\"\n"
   ]
  },
  {
   "cell_type": "code",
   "execution_count": 14,
   "metadata": {},
   "outputs": [
    {
     "name": "stdout",
     "output_type": "stream",
     "text": [
      "torch.Size([1416, 1416]) Tower_of_London_gt.pt\n",
      "torch.Size([1023, 1023]) Madrid_Metropolis_gt.pt\n",
      "torch.Size([6456, 6456]) Piccadilly_gt.pt\n",
      "torch.Size([2367, 2367]) Union_Square_gt.pt\n",
      "torch.Size([1014, 1014]) Piazza_del_Popolo_gt.pt\n",
      "torch.Size([1731, 1731]) Alamo_gt.pt\n",
      "torch.Size([15174, 15174]) Trafalgar_gt.pt\n",
      "torch.Size([996, 996]) NYC_Library_gt.pt\n",
      "torch.Size([2031, 2031]) Gendarmenmarkt_gt.pt\n",
      "torch.Size([3252, 3252]) Roman_Forum_gt.pt\n",
      "torch.Size([681, 681]) Ellis_Island_gt.pt\n",
      "torch.Size([1311, 1311]) Yorkminster_gt.pt\n",
      "torch.Size([1659, 1659]) Notre_Dame_gt.pt\n",
      "torch.Size([1350, 1350]) Montreal_Notre_Dame_gt.pt\n"
     ]
    }
   ],
   "source": [
    "for file in os.listdir(path):\n",
    "    if(\"_gt\" in file):\n",
    "        data = torch.load(os.path.join(path , file))\n",
    "        print(data.shape , file)"
   ]
  },
  {
   "cell_type": "code",
   "execution_count": 22,
   "metadata": {},
   "outputs": [],
   "source": [
    "path = \"./test/8/X_output.mat\""
   ]
  },
  {
   "cell_type": "code",
   "execution_count": 23,
   "metadata": {},
   "outputs": [],
   "source": [
    "data = scipy.io.loadmat(path)"
   ]
  },
  {
   "cell_type": "code",
   "execution_count": 36,
   "metadata": {},
   "outputs": [],
   "source": [
    "mat = data['best']"
   ]
  },
  {
   "cell_type": "code",
   "execution_count": 43,
   "metadata": {},
   "outputs": [
    {
     "data": {
      "text/plain": [
       "array([[1., 0., 0.],\n",
       "       [0., 1., 0.],\n",
       "       [0., 0., 1.]], dtype=float32)"
      ]
     },
     "execution_count": 43,
     "metadata": {},
     "output_type": "execute_result"
    }
   ],
   "source": [
    "mat[0:3,0:3]"
   ]
  },
  {
   "cell_type": "code",
   "execution_count": 41,
   "metadata": {},
   "outputs": [],
   "source": [
    "for i in range(0 , mat.shape[0] , 3):\n",
    "    mat[i:i+3 , i:i+3]  = np.identity(3)"
   ]
  },
  {
   "cell_type": "code",
   "execution_count": 44,
   "metadata": {},
   "outputs": [],
   "source": []
  },
  {
   "cell_type": "code",
   "execution_count": 45,
   "metadata": {},
   "outputs": [],
   "source": [
    "scipy.io.savemat(\"./test/8/X_output_.mat\" , ndic)"
   ]
  },
  {
   "cell_type": "code",
   "execution_count": 6,
   "metadata": {},
   "outputs": [],
   "source": [
    "path = \"./test/10/best.npy\"\n",
    "data = torch.load(path).detach().cpu().numpy()"
   ]
  },
  {
   "cell_type": "code",
   "execution_count": 7,
   "metadata": {},
   "outputs": [
    {
     "data": {
      "text/plain": [
       "array([[ 5.3814638e-01, -3.5034567e-02,  6.3071814e-03, ...,\n",
       "         5.3440209e-02, -1.9970534e-03, -1.5636298e-03],\n",
       "       [-3.5423823e-02,  6.2225533e-01, -5.8258576e-03, ...,\n",
       "        -3.8137906e-03,  7.3073603e-02, -5.1733772e-03],\n",
       "       [ 6.2862816e-03, -4.4724206e-03,  5.3468829e-01, ...,\n",
       "         4.2596832e-03,  2.1125346e-03,  5.4068156e-02],\n",
       "       ...,\n",
       "       [ 5.2964576e-02, -3.7215082e-03,  5.0652982e-03, ...,\n",
       "         4.8693139e-03, -1.8508793e-04,  2.7915867e-04],\n",
       "       [-1.9742325e-03,  7.3514387e-02,  3.3923367e-03, ...,\n",
       "        -2.5629520e-04,  7.5704157e-03, -1.4950124e-04],\n",
       "       [-1.4968181e-03, -5.3486321e-03,  5.3650420e-02, ...,\n",
       "         2.0296194e-04, -2.4948470e-04,  5.1041883e-03]], dtype=float32)"
      ]
     },
     "execution_count": 7,
     "metadata": {},
     "output_type": "execute_result"
    }
   ],
   "source": []
  },
  {
   "cell_type": "code",
   "execution_count": 5,
   "metadata": {},
   "outputs": [
    {
     "data": {
      "text/plain": [
       "['best.npy',\n",
       " 'res_best_test.pt',\n",
       " 'events.out.tfevents.1642790735.brasov',\n",
       " 'out.log',\n",
       " 'source.zip',\n",
       " 'res_best_train.pt',\n",
       " 'config.toml',\n",
       " 'meta.toml',\n",
       " 'res_final_train.pt',\n",
       " 'res_final_test.pt']"
      ]
     },
     "execution_count": 5,
     "metadata": {},
     "output_type": "execute_result"
    }
   ],
   "source": [
    "os.listdir(path)"
   ]
  },
  {
   "cell_type": "code",
   "execution_count": 8,
   "metadata": {},
   "outputs": [],
   "source": [
    "ndic = {\"best\":data }"
   ]
  },
  {
   "cell_type": "code",
   "execution_count": 9,
   "metadata": {},
   "outputs": [],
   "source": [
    "scipy.io.savemat(\"./test/10/X_output_.mat\" , ndic)"
   ]
  },
  {
   "cell_type": "code",
   "execution_count": 1,
   "metadata": {},
   "outputs": [],
   "source": [
    "import pandas as pd"
   ]
  },
  {
   "cell_type": "code",
   "execution_count": 19,
   "metadata": {},
   "outputs": [],
   "source": []
  },
  {
   "cell_type": "code",
   "execution_count": 4,
   "metadata": {},
   "outputs": [],
   "source": [
    "data = {'swaps': [{'amount0In': '7.237220406822259026', 'amount0Out': '0', 'amount1In': '0', 'amount1Out': '15926.075898', 'amountUSD': '15982.44610547115783973007523062402', 'id': '0xc4892ae548f1b8d3c6f932bd96503176c944795715c60b72643a3da49833134b-1', 'pair': {'token0': {'id': '0xc02aaa39b223fe8d0a0e5c4f27ead9083c756cc2', 'symbol': 'WETH'}, 'token1': {'id': '0xdac17f958d2ee523a2206206994597c13d831ec7', 'symbol': 'USDT'}}, 'to': '0xade11f9f283aa032f0a5c01c37036d1b04f8ed27', 'transaction': {'id': '0xc4892ae548f1b8d3c6f932bd96503176c944795715c60b72643a3da49833134b', 'timestamp': '1643027680'}}, {'amount0In': '172995460786211562589.789917981', 'amount0Out': '0', 'amount1In': '0', 'amount1Out': '7.237220406822259026', 'amountUSD': '16007.45127973427623543252904201587', 'id': '0xc4892ae548f1b8d3c6f932bd96503176c944795715c60b72643a3da49833134b-0', 'pair': {'token0': {'id': '0x6adb2e268de2aa1abf6578e4a8119b960e02928f', 'symbol': 'ShibDoge'}, 'token1': {'id': '0xc02aaa39b223fe8d0a0e5c4f27ead9083c756cc2', 'symbol': 'WETH'}}, 'to': '0x0d4a11d5eeaac28ec3f61d100daf4d40471f1852', 'transaction': {'id': '0xc4892ae548f1b8d3c6f932bd96503176c944795715c60b72643a3da49833134b', 'timestamp': '1643027680'}}, {'amount0In': '0', 'amount0Out': '164.033140050623547066', 'amount1In': '0.01', 'amount1Out': '0', 'amountUSD': '22.11823100571131718421318206777445', 'id': '0xa8fe3bc6f10c11e9c9657545d3f26ab4147ac9023c2346d3566be36707c6df6b-0', 'pair': {'token0': {'id': '0xa5def515cfd373d17830e7c1de1639cb3530a112', 'symbol': 'DEPO'}, 'token1': {'id': '0xc02aaa39b223fe8d0a0e5c4f27ead9083c756cc2', 'symbol': 'WETH'}}, 'to': '0x384f866f40f7c95fdd5b12f0793b0df7ed044a83', 'transaction': {'id': '0xa8fe3bc6f10c11e9c9657545d3f26ab4147ac9023c2346d3566be36707c6df6b', 'timestamp': '1643027680'}}]}"
   ]
  },
  {
   "cell_type": "code",
   "execution_count": 23,
   "metadata": {},
   "outputs": [
    {
     "name": "stdout",
     "output_type": "stream",
     "text": [
      "7.237220406822259026\n",
      "172995460786211562589.789917981\n",
      "0\n"
     ]
    }
   ],
   "source": [
    "df = pd.DataFrame(columns=['a','b','c'])\n",
    "for d in data['swaps']:\n",
    "    a = d['amount0In']\n",
    "    b = d['amount0Out']\n",
    "    c = d['amount0Out']\n",
    "    print(a)\n",
    "    df.append({'a':\"A\" , 'b':\"B\" ,'c':\"C\"} , ignore_index=True)\n",
    "#     "
   ]
  },
  {
   "cell_type": "code",
   "execution_count": 25,
   "metadata": {},
   "outputs": [
    {
     "data": {
      "text/html": [
       "<div>\n",
       "<style scoped>\n",
       "    .dataframe tbody tr th:only-of-type {\n",
       "        vertical-align: middle;\n",
       "    }\n",
       "\n",
       "    .dataframe tbody tr th {\n",
       "        vertical-align: top;\n",
       "    }\n",
       "\n",
       "    .dataframe thead th {\n",
       "        text-align: right;\n",
       "    }\n",
       "</style>\n",
       "<table border=\"1\" class=\"dataframe\">\n",
       "  <thead>\n",
       "    <tr style=\"text-align: right;\">\n",
       "      <th></th>\n",
       "      <th>a</th>\n",
       "      <th>b</th>\n",
       "      <th>c</th>\n",
       "    </tr>\n",
       "  </thead>\n",
       "  <tbody>\n",
       "    <tr>\n",
       "      <th>0</th>\n",
       "      <td>A</td>\n",
       "      <td>B</td>\n",
       "      <td>C</td>\n",
       "    </tr>\n",
       "  </tbody>\n",
       "</table>\n",
       "</div>"
      ],
      "text/plain": [
       "   a  b  c\n",
       "0  A  B  C"
      ]
     },
     "execution_count": 25,
     "metadata": {},
     "output_type": "execute_result"
    }
   ],
   "source": [
    "df.append({'a':\"A\" , 'b':\"B\" ,'c':\"C\"} , ignore_index=True)"
   ]
  },
  {
   "cell_type": "code",
   "execution_count": 18,
   "metadata": {},
   "outputs": [
    {
     "name": "stdout",
     "output_type": "stream",
     "text": [
      "Empty DataFrame\n",
      "Columns: [Name, Articles, Improved]\n",
      "Index: []\n"
     ]
    },
    {
     "data": {
      "text/html": [
       "<div>\n",
       "<style scoped>\n",
       "    .dataframe tbody tr th:only-of-type {\n",
       "        vertical-align: middle;\n",
       "    }\n",
       "\n",
       "    .dataframe tbody tr th {\n",
       "        vertical-align: top;\n",
       "    }\n",
       "\n",
       "    .dataframe thead th {\n",
       "        text-align: right;\n",
       "    }\n",
       "</style>\n",
       "<table border=\"1\" class=\"dataframe\">\n",
       "  <thead>\n",
       "    <tr style=\"text-align: right;\">\n",
       "      <th></th>\n",
       "      <th>Name</th>\n",
       "      <th>Articles</th>\n",
       "      <th>Improved</th>\n",
       "    </tr>\n",
       "  </thead>\n",
       "  <tbody>\n",
       "    <tr>\n",
       "      <th>0</th>\n",
       "      <td>Ankit</td>\n",
       "      <td>97</td>\n",
       "      <td>2200</td>\n",
       "    </tr>\n",
       "    <tr>\n",
       "      <th>1</th>\n",
       "      <td>Aishwary</td>\n",
       "      <td>30</td>\n",
       "      <td>50</td>\n",
       "    </tr>\n",
       "    <tr>\n",
       "      <th>2</th>\n",
       "      <td>yash</td>\n",
       "      <td>17</td>\n",
       "      <td>220</td>\n",
       "    </tr>\n",
       "  </tbody>\n",
       "</table>\n",
       "</div>"
      ],
      "text/plain": [
       "       Name Articles Improved\n",
       "0     Ankit       97     2200\n",
       "1  Aishwary       30       50\n",
       "2      yash       17      220"
      ]
     },
     "execution_count": 18,
     "metadata": {},
     "output_type": "execute_result"
    }
   ],
   "source": [
    "import pandas as pd\n",
    "  \n",
    "# create an Empty DataFrame\n",
    "# object With column names only\n",
    "df = pd.DataFrame(columns = ['Name', 'Articles', 'Improved'])\n",
    "print(df)\n",
    "  \n",
    "# append rows to an empty DataFrame\n",
    "df = df.append({'Name' : 'Ankit', 'Articles' : 97, 'Improved' : 2200}, \n",
    "                ignore_index = True)\n",
    "df = df.append({'Name' : 'Aishwary', 'Articles' : 30, 'Improved' : 50},\n",
    "                ignore_index = True)\n",
    "df = df.append({'Name' : 'yash', 'Articles' : 17, 'Improved' : 220},\n",
    "               ignore_index = True)\n",
    "  \n",
    "df"
   ]
  },
  {
   "cell_type": "code",
   "execution_count": 26,
   "metadata": {},
   "outputs": [],
   "source": [
    "df = pd.DataFrame(data=data['swaps'])"
   ]
  },
  {
   "cell_type": "code",
   "execution_count": 31,
   "metadata": {},
   "outputs": [
    {
     "data": {
      "text/html": [
       "<div>\n",
       "<style scoped>\n",
       "    .dataframe tbody tr th:only-of-type {\n",
       "        vertical-align: middle;\n",
       "    }\n",
       "\n",
       "    .dataframe tbody tr th {\n",
       "        vertical-align: top;\n",
       "    }\n",
       "\n",
       "    .dataframe thead th {\n",
       "        text-align: right;\n",
       "    }\n",
       "</style>\n",
       "<table border=\"1\" class=\"dataframe\">\n",
       "  <thead>\n",
       "    <tr style=\"text-align: right;\">\n",
       "      <th></th>\n",
       "      <th>amount0In</th>\n",
       "      <th>amount0Out</th>\n",
       "      <th>amount1In</th>\n",
       "      <th>amount1Out</th>\n",
       "      <th>amountUSD</th>\n",
       "      <th>id</th>\n",
       "      <th>to</th>\n",
       "      <th>transaction</th>\n",
       "    </tr>\n",
       "  </thead>\n",
       "  <tbody>\n",
       "    <tr>\n",
       "      <th>0</th>\n",
       "      <td>7.237220406822259026</td>\n",
       "      <td>0</td>\n",
       "      <td>0</td>\n",
       "      <td>15926.075898</td>\n",
       "      <td>15982.44610547115783973007523062402</td>\n",
       "      <td>0xc4892ae548f1b8d3c6f932bd96503176c944795715c6...</td>\n",
       "      <td>0xade11f9f283aa032f0a5c01c37036d1b04f8ed27</td>\n",
       "      <td>{'id': '0xc4892ae548f1b8d3c6f932bd96503176c944...</td>\n",
       "    </tr>\n",
       "    <tr>\n",
       "      <th>1</th>\n",
       "      <td>172995460786211562589.789917981</td>\n",
       "      <td>0</td>\n",
       "      <td>0</td>\n",
       "      <td>7.237220406822259026</td>\n",
       "      <td>16007.45127973427623543252904201587</td>\n",
       "      <td>0xc4892ae548f1b8d3c6f932bd96503176c944795715c6...</td>\n",
       "      <td>0x0d4a11d5eeaac28ec3f61d100daf4d40471f1852</td>\n",
       "      <td>{'id': '0xc4892ae548f1b8d3c6f932bd96503176c944...</td>\n",
       "    </tr>\n",
       "    <tr>\n",
       "      <th>2</th>\n",
       "      <td>0</td>\n",
       "      <td>164.033140050623547066</td>\n",
       "      <td>0.01</td>\n",
       "      <td>0</td>\n",
       "      <td>22.11823100571131718421318206777445</td>\n",
       "      <td>0xa8fe3bc6f10c11e9c9657545d3f26ab4147ac9023c23...</td>\n",
       "      <td>0x384f866f40f7c95fdd5b12f0793b0df7ed044a83</td>\n",
       "      <td>{'id': '0xa8fe3bc6f10c11e9c9657545d3f26ab4147a...</td>\n",
       "    </tr>\n",
       "  </tbody>\n",
       "</table>\n",
       "</div>"
      ],
      "text/plain": [
       "                         amount0In              amount0Out amount1In  \\\n",
       "0             7.237220406822259026                       0         0   \n",
       "1  172995460786211562589.789917981                       0         0   \n",
       "2                                0  164.033140050623547066      0.01   \n",
       "\n",
       "             amount1Out                            amountUSD  \\\n",
       "0          15926.075898  15982.44610547115783973007523062402   \n",
       "1  7.237220406822259026  16007.45127973427623543252904201587   \n",
       "2                     0  22.11823100571131718421318206777445   \n",
       "\n",
       "                                                  id  \\\n",
       "0  0xc4892ae548f1b8d3c6f932bd96503176c944795715c6...   \n",
       "1  0xc4892ae548f1b8d3c6f932bd96503176c944795715c6...   \n",
       "2  0xa8fe3bc6f10c11e9c9657545d3f26ab4147ac9023c23...   \n",
       "\n",
       "                                           to  \\\n",
       "0  0xade11f9f283aa032f0a5c01c37036d1b04f8ed27   \n",
       "1  0x0d4a11d5eeaac28ec3f61d100daf4d40471f1852   \n",
       "2  0x384f866f40f7c95fdd5b12f0793b0df7ed044a83   \n",
       "\n",
       "                                         transaction  \n",
       "0  {'id': '0xc4892ae548f1b8d3c6f932bd96503176c944...  \n",
       "1  {'id': '0xc4892ae548f1b8d3c6f932bd96503176c944...  \n",
       "2  {'id': '0xa8fe3bc6f10c11e9c9657545d3f26ab4147a...  "
      ]
     },
     "execution_count": 31,
     "metadata": {},
     "output_type": "execute_result"
    }
   ],
   "source": [
    "df.drop(columns =['pair'])"
   ]
  },
  {
   "cell_type": "code",
   "execution_count": 28,
   "metadata": {},
   "outputs": [
    {
     "data": {
      "text/plain": [
       "[{'amount0In': '7.237220406822259026',\n",
       "  'amount0Out': '0',\n",
       "  'amount1In': '0',\n",
       "  'amount1Out': '15926.075898',\n",
       "  'amountUSD': '15982.44610547115783973007523062402',\n",
       "  'id': '0xc4892ae548f1b8d3c6f932bd96503176c944795715c60b72643a3da49833134b-1',\n",
       "  'pair': {'token0': {'id': '0xc02aaa39b223fe8d0a0e5c4f27ead9083c756cc2',\n",
       "    'symbol': 'WETH'},\n",
       "   'token1': {'id': '0xdac17f958d2ee523a2206206994597c13d831ec7',\n",
       "    'symbol': 'USDT'}},\n",
       "  'to': '0xade11f9f283aa032f0a5c01c37036d1b04f8ed27',\n",
       "  'transaction': {'id': '0xc4892ae548f1b8d3c6f932bd96503176c944795715c60b72643a3da49833134b',\n",
       "   'timestamp': '1643027680'}},\n",
       " {'amount0In': '172995460786211562589.789917981',\n",
       "  'amount0Out': '0',\n",
       "  'amount1In': '0',\n",
       "  'amount1Out': '7.237220406822259026',\n",
       "  'amountUSD': '16007.45127973427623543252904201587',\n",
       "  'id': '0xc4892ae548f1b8d3c6f932bd96503176c944795715c60b72643a3da49833134b-0',\n",
       "  'pair': {'token0': {'id': '0x6adb2e268de2aa1abf6578e4a8119b960e02928f',\n",
       "    'symbol': 'ShibDoge'},\n",
       "   'token1': {'id': '0xc02aaa39b223fe8d0a0e5c4f27ead9083c756cc2',\n",
       "    'symbol': 'WETH'}},\n",
       "  'to': '0x0d4a11d5eeaac28ec3f61d100daf4d40471f1852',\n",
       "  'transaction': {'id': '0xc4892ae548f1b8d3c6f932bd96503176c944795715c60b72643a3da49833134b',\n",
       "   'timestamp': '1643027680'}},\n",
       " {'amount0In': '0',\n",
       "  'amount0Out': '164.033140050623547066',\n",
       "  'amount1In': '0.01',\n",
       "  'amount1Out': '0',\n",
       "  'amountUSD': '22.11823100571131718421318206777445',\n",
       "  'id': '0xa8fe3bc6f10c11e9c9657545d3f26ab4147ac9023c2346d3566be36707c6df6b-0',\n",
       "  'pair': {'token0': {'id': '0xa5def515cfd373d17830e7c1de1639cb3530a112',\n",
       "    'symbol': 'DEPO'},\n",
       "   'token1': {'id': '0xc02aaa39b223fe8d0a0e5c4f27ead9083c756cc2',\n",
       "    'symbol': 'WETH'}},\n",
       "  'to': '0x384f866f40f7c95fdd5b12f0793b0df7ed044a83',\n",
       "  'transaction': {'id': '0xa8fe3bc6f10c11e9c9657545d3f26ab4147ac9023c2346d3566be36707c6df6b',\n",
       "   'timestamp': '1643027680'}}]"
      ]
     },
     "execution_count": 28,
     "metadata": {},
     "output_type": "execute_result"
    }
   ],
   "source": [
    "data['swaps']"
   ]
  },
  {
   "cell_type": "code",
   "execution_count": null,
   "metadata": {},
   "outputs": [],
   "source": []
  }
 ],
 "metadata": {
  "interpreter": {
   "hash": "d88cf8d74459227cf2109d33ac54eed8644b31fc2aec49bcab96a9d1fa33afc2"
  },
  "kernelspec": {
   "display_name": "Python 3",
   "language": "python",
   "name": "python3"
  },
  "language_info": {
   "codemirror_mode": {
    "name": "ipython",
    "version": 3
   },
   "file_extension": ".py",
   "mimetype": "text/x-python",
   "name": "python",
   "nbconvert_exporter": "python",
   "pygments_lexer": "ipython3",
   "version": "3.6.9"
  }
 },
 "nbformat": 4,
 "nbformat_minor": 4
}
