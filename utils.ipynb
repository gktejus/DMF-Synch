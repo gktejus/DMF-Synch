{
 "cells": [
  {
   "cell_type": "code",
   "execution_count": 16,
   "metadata": {},
   "outputs": [],
   "source": [
    "import torch\n",
    "import torch.nn as nn\n",
    "import scipy.io\n",
    "import numpy as np\n",
    "import json \n",
    "import os\n",
    "import glob\n",
    "import pandas as pd"
   ]
  },
  {
   "cell_type": "code",
   "execution_count": 15,
   "metadata": {},
   "outputs": [],
   "source": [
    "\"\"\"Loads the 1DSfM Matlab data and converts it into the one required for the network \"\"\"\n",
    "\n",
    "\n",
    "for dirs in os.listdir(\"./MATLAB_SO3/datasets_matrices/\"):\n",
    "    name = dirs.split(\".mat\")[0]\n",
    "    mat  = scipy.io.loadmat(os.path.join(\"./MATLAB_SO3/datasets_matrices/\" , dirs))\n",
    "    Z_incomplete = mat['Z_incomplete']\n",
    "    Omega = mat[\"Omega\"]\n",
    "    # Z_complete = mat[Z_complete]\n",
    "    data = []\n",
    "    for i in range(0 , Z_incomplete.shape[0] , 3):\n",
    "        for j in range(0 , Z_incomplete.shape[0] , 3):\n",
    "            if(Omega[i][j]==1 ):\n",
    "                data.append([i , j])\n",
    "    gt_path = f\"./datasets/mat-cmpl/{name}_gt.pt\"\n",
    "    torch.save(torch.from_numpy(Z_incomplete), gt_path)\n",
    "    x = []\n",
    "    y = []\n",
    "    for idx in data:\n",
    "        for i in range(3):\n",
    "            for j in range(3):\n",
    "                x.append(idx[0]+i)\n",
    "                y.append(idx[1]+j)\n",
    "    x = torch.tensor(x)\n",
    "    y = torch.tensor(y)\n",
    "    ys_ = Z_incomplete[x , y]\n",
    "    ys_ = torch.tensor(ys_)\n",
    "    obs_path = f\"./datasets/mat-cmpl/{name}_obs.pt\"\n",
    "    torch.save([(x, y), ys_], obs_path)\n",
    "    \n",
    "    \n",
    "    \n"
   ]
  },
  {
   "cell_type": "code",
   "execution_count": 3,
   "metadata": {},
   "outputs": [
    {
     "name": "stderr",
     "output_type": "stream",
     "text": [
      "ipykernel_launcher:11: FutureWarning: pandas.io.json.json_normalize is deprecated, use pandas.json_normalize instead\n"
     ]
    }
   ],
   "source": [
    "\"\"\" Compiles results of all exps\"\"\"\n",
    "\n",
    "import pandas as pd\n",
    "import json\n",
    "from pandas.io.json import json_normalize\n",
    "\n",
    "dataframe  = []\n",
    "idx =0 \n",
    "for dir in glob.glob(\"./logs/*\"):\n",
    "    config_path = os.path.join(dir ,  \"config.json\")\n",
    "    f =open(config_path)\n",
    "    data = json.load(f)\n",
    "    norm_data = pd.DataFrame(json_normalize(data))\n",
    "    norm_data.insert(0 , 'Exp' , '')\n",
    "    norm_data['Exp'] = idx\n",
    "    dataframe.append(norm_data)\n",
    "    idx+=1\n",
    "df = pd.concat(dataframe)\n",
    "df.to_csv(\"./results.csv\")\n",
    "\n"
   ]
  }
 ],
 "metadata": {
  "interpreter": {
   "hash": "d88cf8d74459227cf2109d33ac54eed8644b31fc2aec49bcab96a9d1fa33afc2"
  },
  "kernelspec": {
   "display_name": "Python 3.6.9 64-bit ('torchenv': virtualenv)",
   "name": "python3"
  },
  "language_info": {
   "codemirror_mode": {
    "name": "ipython",
    "version": 3
   },
   "file_extension": ".py",
   "mimetype": "text/x-python",
   "name": "python",
   "nbconvert_exporter": "python",
   "pygments_lexer": "ipython3",
   "version": "3.6.9"
  },
  "orig_nbformat": 4
 },
 "nbformat": 4,
 "nbformat_minor": 2
}
